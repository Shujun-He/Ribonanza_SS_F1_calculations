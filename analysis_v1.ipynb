{
 "cells": [
  {
   "cell_type": "markdown",
   "metadata": {},
   "source": [
    "# Reproduces V1 F1 calculations"
   ]
  },
  {
   "cell_type": "code",
   "execution_count": 40,
   "metadata": {},
   "outputs": [],
   "source": [
    "import pandas as pd\n",
    "import numpy as np\n",
    "import matplotlib.pyplot as plt"
   ]
  },
  {
   "cell_type": "code",
   "execution_count": 11,
   "metadata": {},
   "outputs": [
    {
     "data": {
      "text/html": [
       "<div>\n",
       "<style scoped>\n",
       "    .dataframe tbody tr th:only-of-type {\n",
       "        vertical-align: middle;\n",
       "    }\n",
       "\n",
       "    .dataframe tbody tr th {\n",
       "        vertical-align: top;\n",
       "    }\n",
       "\n",
       "    .dataframe thead th {\n",
       "        text-align: right;\n",
       "    }\n",
       "</style>\n",
       "<table border=\"1\" class=\"dataframe\">\n",
       "  <thead>\n",
       "    <tr style=\"text-align: right;\">\n",
       "      <th></th>\n",
       "      <th>name</th>\n",
       "      <th>dataset</th>\n",
       "      <th>sequence</th>\n",
       "      <th>structure</th>\n",
       "      <th>length</th>\n",
       "      <th>num_pseudoknots</th>\n",
       "      <th>RibonanzaNet PRED</th>\n",
       "      <th>RibonanzaNet no pretraining PRED</th>\n",
       "      <th>Vienna2 PRED</th>\n",
       "      <th>CONTRAfold2 PRED</th>\n",
       "      <th>...</th>\n",
       "      <th>CONTRAfold2 (HK) F1</th>\n",
       "      <th>Shapify-Hfold F1</th>\n",
       "      <th>SPOT-RNA F1</th>\n",
       "      <th>E-value</th>\n",
       "      <th>log E-value</th>\n",
       "      <th>TM score</th>\n",
       "      <th>RMSD (RibonanzaNet) ↓</th>\n",
       "      <th>RMSD (SPOT-RNA) ↓</th>\n",
       "      <th>lDDT (RibonanzaNet) ↑</th>\n",
       "      <th>lDDT (SPOT-RNA) ↑</th>\n",
       "    </tr>\n",
       "  </thead>\n",
       "  <tbody>\n",
       "    <tr>\n",
       "      <th>0</th>\n",
       "      <td>6MXQ</td>\n",
       "      <td>pdb</td>\n",
       "      <td>GGCAGUAUAGUCCGAACUGCAACUUCGGUUCACCUUCUCUCUAACUGCC</td>\n",
       "      <td>((((((.(((...(((.((.(((....)))))..)))...)))))))))</td>\n",
       "      <td>49.0</td>\n",
       "      <td>0.0</td>\n",
       "      <td>((((((.(((.(((((.......)))))............)))))))))</td>\n",
       "      <td>((((((.....(((((.......)))))...............))))))</td>\n",
       "      <td>((((((.(((...((((((......)))))).........)))))))))</td>\n",
       "      <td>((((((.(((.(((((.......)))))............)))))))))</td>\n",
       "      <td>...</td>\n",
       "      <td>0.4444444444</td>\n",
       "      <td>0.9375</td>\n",
       "      <td>0.4285714286</td>\n",
       "      <td>1.000000e+00</td>\n",
       "      <td>0.000000</td>\n",
       "      <td>0.5783</td>\n",
       "      <td>17.8</td>\n",
       "      <td>19.6</td>\n",
       "      <td>0.408</td>\n",
       "      <td>0.365</td>\n",
       "    </tr>\n",
       "    <tr>\n",
       "      <th>1</th>\n",
       "      <td>6NOA</td>\n",
       "      <td>pdb</td>\n",
       "      <td>GGCAGUAUAGUCCGAACUGCAAAUCUUAUUUUCUUUUCACCUUCUC...</td>\n",
       "      <td>((((((.(((...(((.((.(((...........)))))..))).....</td>\n",
       "      <td>56.0</td>\n",
       "      <td>0.0</td>\n",
       "      <td>((((((.(((.......................................</td>\n",
       "      <td>((((((..............((.......))..................</td>\n",
       "      <td>((((((.(((...(((.((.(((...........)))))..))).....</td>\n",
       "      <td>((((((.(((...(((.((..((..........))..))..))).....</td>\n",
       "      <td>...</td>\n",
       "      <td>0.64</td>\n",
       "      <td>0.8235294118</td>\n",
       "      <td>0.6923076923</td>\n",
       "      <td>1.000000e+00</td>\n",
       "      <td>0.000000</td>\n",
       "      <td>0.5564</td>\n",
       "      <td>12.93</td>\n",
       "      <td>12.16</td>\n",
       "      <td>0.549</td>\n",
       "      <td>0.464</td>\n",
       "    </tr>\n",
       "    <tr>\n",
       "      <th>2</th>\n",
       "      <td>6PK9</td>\n",
       "      <td>pdb</td>\n",
       "      <td>GGAGGGUAGACUCGCUCUCC</td>\n",
       "      <td>(((((((......)))))))</td>\n",
       "      <td>20.0</td>\n",
       "      <td>0.0</td>\n",
       "      <td>(((((((......)))))))</td>\n",
       "      <td>(((((((......)))))))</td>\n",
       "      <td>(((((((......)))))))</td>\n",
       "      <td>(((((((......)))))))</td>\n",
       "      <td>...</td>\n",
       "      <td>1</td>\n",
       "      <td>1</td>\n",
       "      <td>1</td>\n",
       "      <td>1.000000e+00</td>\n",
       "      <td>0.000000</td>\n",
       "      <td>0.6317</td>\n",
       "      <td>3.73</td>\n",
       "      <td>3.46</td>\n",
       "      <td>0.743</td>\n",
       "      <td>0.725</td>\n",
       "    </tr>\n",
       "    <tr>\n",
       "      <th>3</th>\n",
       "      <td>6TB7</td>\n",
       "      <td>pdb</td>\n",
       "      <td>GGCUUCAACAACCCCGUAGGUUGGGCCGAAAGGCAGCGAAUCUACU...</td>\n",
       "      <td>(((((((.....[[.((((((((.(((....))).])]))))))))...</td>\n",
       "      <td>52.0</td>\n",
       "      <td>2.0</td>\n",
       "      <td>(((((((........(((((((..(((....)))....))))))))...</td>\n",
       "      <td>(((((((.................(((....)))...........)...</td>\n",
       "      <td>(((((((........(((((((.((((....)))..).))))))))...</td>\n",
       "      <td>(((((((........(((((((.((((....)))..).))))))))...</td>\n",
       "      <td>...</td>\n",
       "      <td>0.9189189189</td>\n",
       "      <td>0.9189189189</td>\n",
       "      <td>0.8717948718</td>\n",
       "      <td>1.000000e+00</td>\n",
       "      <td>0.000000</td>\n",
       "      <td>0.4747</td>\n",
       "      <td>7.24</td>\n",
       "      <td>6.79</td>\n",
       "      <td>0.625</td>\n",
       "      <td>0.617</td>\n",
       "    </tr>\n",
       "    <tr>\n",
       "      <th>4</th>\n",
       "      <td>7D7W</td>\n",
       "      <td>pdb</td>\n",
       "      <td>GCUUCAACAACCCCGUAGGUGGGGACGAAAGUCAGCGCACCUACUG...</td>\n",
       "      <td>((((((.....[[.((((((((.(((....))).])])))))))))...</td>\n",
       "      <td>51.0</td>\n",
       "      <td>2.0</td>\n",
       "      <td>((((((........(((((((..(((....)))....)))))))))...</td>\n",
       "      <td>((((((.....((..[[[[[.))(((....))).....]]]]].))...</td>\n",
       "      <td>((((((........(((((((.((((....)))..).)))))))))...</td>\n",
       "      <td>((((((........(((((((.((((....)))..).)))))))))...</td>\n",
       "      <td>...</td>\n",
       "      <td>0.6896551724</td>\n",
       "      <td>0.9142857143</td>\n",
       "      <td>0.8421052632</td>\n",
       "      <td>1.000000e+00</td>\n",
       "      <td>0.000000</td>\n",
       "      <td>0.5015</td>\n",
       "      <td>10.15</td>\n",
       "      <td>7.18</td>\n",
       "      <td>0.519</td>\n",
       "      <td>0.547</td>\n",
       "    </tr>\n",
       "    <tr>\n",
       "      <th>...</th>\n",
       "      <td>...</td>\n",
       "      <td>...</td>\n",
       "      <td>...</td>\n",
       "      <td>...</td>\n",
       "      <td>...</td>\n",
       "      <td>...</td>\n",
       "      <td>...</td>\n",
       "      <td>...</td>\n",
       "      <td>...</td>\n",
       "      <td>...</td>\n",
       "      <td>...</td>\n",
       "      <td>...</td>\n",
       "      <td>...</td>\n",
       "      <td>...</td>\n",
       "      <td>...</td>\n",
       "      <td>...</td>\n",
       "      <td>...</td>\n",
       "      <td>...</td>\n",
       "      <td>...</td>\n",
       "      <td>...</td>\n",
       "      <td>...</td>\n",
       "    </tr>\n",
       "    <tr>\n",
       "      <th>73</th>\n",
       "      <td>R1138v1</td>\n",
       "      <td>casp_15</td>\n",
       "      <td>GGGAGAGUACUAUUCAGAUGCAGACCGCAAGUUCAGAGCGGUUUGC...</td>\n",
       "      <td>((((((((((((((((((((((.(((((..[[[[[[.))))).)))...</td>\n",
       "      <td>720.0</td>\n",
       "      <td>5.0</td>\n",
       "      <td>((((((((((((((((((((((((((((.........)))))))))...</td>\n",
       "      <td>(((((((((((.....((((((((((((.........)))))))))...</td>\n",
       "      <td>((((((((((((((((((((((((((((.........)))))))))...</td>\n",
       "      <td>((((((((((((((((((((((((((((.........)))))))))...</td>\n",
       "      <td>...</td>\n",
       "      <td>0.8961937716</td>\n",
       "      <td>0.8677248677</td>\n",
       "      <td>0.8085106383</td>\n",
       "      <td>1.000000e+00</td>\n",
       "      <td>0.000000</td>\n",
       "      <td>0.1959</td>\n",
       "      <td>44.55</td>\n",
       "      <td>45.74</td>\n",
       "      <td>0.274</td>\n",
       "      <td>0.123</td>\n",
       "    </tr>\n",
       "    <tr>\n",
       "      <th>74</th>\n",
       "      <td>R1149</td>\n",
       "      <td>casp_15</td>\n",
       "      <td>GGACACGAGUAACUCGUCUAUCUUCUGCAGGCUGCUUACGGUUUCG...</td>\n",
       "      <td>(((((..((...(((.(((((((((((..((((((.(((((........</td>\n",
       "      <td>124.0</td>\n",
       "      <td>0.0</td>\n",
       "      <td>(((((.......(((.(((((((((((..((((((..((((........</td>\n",
       "      <td>((((((((.....))).......................((........</td>\n",
       "      <td>(((((..((...(((.((((((((.....((((((.(((((........</td>\n",
       "      <td>(((((..((...(((.(((((((((((..((((((.(((((........</td>\n",
       "      <td>...</td>\n",
       "      <td>0.9</td>\n",
       "      <td>0.9397590361</td>\n",
       "      <td>0.7123287671</td>\n",
       "      <td>6.640000e-60</td>\n",
       "      <td>-59.177832</td>\n",
       "      <td>0.4025</td>\n",
       "      <td>12.73</td>\n",
       "      <td>18.92</td>\n",
       "      <td>0.651</td>\n",
       "      <td>0.52</td>\n",
       "    </tr>\n",
       "    <tr>\n",
       "      <th>75</th>\n",
       "      <td>R1156</td>\n",
       "      <td>casp_15</td>\n",
       "      <td>GGAGCAUCGUGUCUCAAGUGCUUCACGGUCACAAUAUACCGUUUCG...</td>\n",
       "      <td>(((((.((.((.(((..(((((((((((((((...((.(((........</td>\n",
       "      <td>135.0</td>\n",
       "      <td>0.0</td>\n",
       "      <td>(((((.((.((.(((..(((((((((.(((((......(((........</td>\n",
       "      <td>(((((.((..................((([[......))).........</td>\n",
       "      <td>(((((.((.((.(((..((((((.(((((........)))))..((...</td>\n",
       "      <td>(((((.((.((.(((..((((((....(((((......(((........</td>\n",
       "      <td>...</td>\n",
       "      <td>0.6</td>\n",
       "      <td>0.8</td>\n",
       "      <td>0.6329113924</td>\n",
       "      <td>5.660000e-66</td>\n",
       "      <td>-65.247184</td>\n",
       "      <td>0.3901</td>\n",
       "      <td>28.56</td>\n",
       "      <td>20.45</td>\n",
       "      <td>0.554</td>\n",
       "      <td>0.47</td>\n",
       "    </tr>\n",
       "    <tr>\n",
       "      <th>76</th>\n",
       "      <td>R1189</td>\n",
       "      <td>casp_15</td>\n",
       "      <td>GCGUACAGGGAACACGCAACCCCGAAGGAUCGGGGAAGGGACGUCG...</td>\n",
       "      <td>(((...........)))..(((((......)))))........((....</td>\n",
       "      <td>118.0</td>\n",
       "      <td>0.0</td>\n",
       "      <td>((((.........))))..((((((....)))))).......((((...</td>\n",
       "      <td>(((...........)))...((((......))))...............</td>\n",
       "      <td>((((.........))))..((((((....))))))...(((.((((...</td>\n",
       "      <td>((((.........))))..((((((....))))))...(((.((((...</td>\n",
       "      <td>...</td>\n",
       "      <td>0.7346938776</td>\n",
       "      <td>0.6984126984</td>\n",
       "      <td>0.6923076923</td>\n",
       "      <td>1.000000e+00</td>\n",
       "      <td>0.000000</td>\n",
       "      <td>0.2798</td>\n",
       "      <td>33.08</td>\n",
       "      <td>31.72</td>\n",
       "      <td>0.485</td>\n",
       "      <td>0.487</td>\n",
       "    </tr>\n",
       "    <tr>\n",
       "      <th>77</th>\n",
       "      <td>R1190</td>\n",
       "      <td>casp_15</td>\n",
       "      <td>GCGUACAGGGAACACGCAACCCCGAAGGAUCGGGGAAGGGACGUCG...</td>\n",
       "      <td>((((.........))))..(((((......)))))........(((...</td>\n",
       "      <td>118.0</td>\n",
       "      <td>0.0</td>\n",
       "      <td>((((.........))))..((((((....)))))).......((((...</td>\n",
       "      <td>(((...........)))...((((......))))...............</td>\n",
       "      <td>((((.........))))..((((((....))))))...(((.((((...</td>\n",
       "      <td>((((.........))))..((((((....))))))...(((.((((...</td>\n",
       "      <td>...</td>\n",
       "      <td>0.7636363636</td>\n",
       "      <td>0.7536231884</td>\n",
       "      <td>0.7586206897</td>\n",
       "      <td>1.000000e+00</td>\n",
       "      <td>0.000000</td>\n",
       "      <td>0.3051</td>\n",
       "      <td>30.54</td>\n",
       "      <td>37.47</td>\n",
       "      <td>0.526</td>\n",
       "      <td>0.512</td>\n",
       "    </tr>\n",
       "  </tbody>\n",
       "</table>\n",
       "<p>78 rows × 43 columns</p>\n",
       "</div>"
      ],
      "text/plain": [
       "       name  dataset                                           sequence  \\\n",
       "0      6MXQ      pdb  GGCAGUAUAGUCCGAACUGCAACUUCGGUUCACCUUCUCUCUAACUGCC   \n",
       "1      6NOA      pdb  GGCAGUAUAGUCCGAACUGCAAAUCUUAUUUUCUUUUCACCUUCUC...   \n",
       "2      6PK9      pdb                               GGAGGGUAGACUCGCUCUCC   \n",
       "3      6TB7      pdb  GGCUUCAACAACCCCGUAGGUUGGGCCGAAAGGCAGCGAAUCUACU...   \n",
       "4      7D7W      pdb  GCUUCAACAACCCCGUAGGUGGGGACGAAAGUCAGCGCACCUACUG...   \n",
       "..      ...      ...                                                ...   \n",
       "73  R1138v1  casp_15  GGGAGAGUACUAUUCAGAUGCAGACCGCAAGUUCAGAGCGGUUUGC...   \n",
       "74    R1149  casp_15  GGACACGAGUAACUCGUCUAUCUUCUGCAGGCUGCUUACGGUUUCG...   \n",
       "75    R1156  casp_15  GGAGCAUCGUGUCUCAAGUGCUUCACGGUCACAAUAUACCGUUUCG...   \n",
       "76    R1189  casp_15  GCGUACAGGGAACACGCAACCCCGAAGGAUCGGGGAAGGGACGUCG...   \n",
       "77    R1190  casp_15  GCGUACAGGGAACACGCAACCCCGAAGGAUCGGGGAAGGGACGUCG...   \n",
       "\n",
       "                                            structure  length  \\\n",
       "0   ((((((.(((...(((.((.(((....)))))..)))...)))))))))    49.0   \n",
       "1   ((((((.(((...(((.((.(((...........)))))..))).....    56.0   \n",
       "2                                (((((((......)))))))    20.0   \n",
       "3   (((((((.....[[.((((((((.(((....))).])]))))))))...    52.0   \n",
       "4   ((((((.....[[.((((((((.(((....))).])])))))))))...    51.0   \n",
       "..                                                ...     ...   \n",
       "73  ((((((((((((((((((((((.(((((..[[[[[[.))))).)))...   720.0   \n",
       "74  (((((..((...(((.(((((((((((..((((((.(((((........   124.0   \n",
       "75  (((((.((.((.(((..(((((((((((((((...((.(((........   135.0   \n",
       "76  (((...........)))..(((((......)))))........((....   118.0   \n",
       "77  ((((.........))))..(((((......)))))........(((...   118.0   \n",
       "\n",
       "    num_pseudoknots                                  RibonanzaNet PRED  \\\n",
       "0               0.0  ((((((.(((.(((((.......)))))............)))))))))   \n",
       "1               0.0  ((((((.(((.......................................   \n",
       "2               0.0                               (((((((......)))))))   \n",
       "3               2.0  (((((((........(((((((..(((....)))....))))))))...   \n",
       "4               2.0  ((((((........(((((((..(((....)))....)))))))))...   \n",
       "..              ...                                                ...   \n",
       "73              5.0  ((((((((((((((((((((((((((((.........)))))))))...   \n",
       "74              0.0  (((((.......(((.(((((((((((..((((((..((((........   \n",
       "75              0.0  (((((.((.((.(((..(((((((((.(((((......(((........   \n",
       "76              0.0  ((((.........))))..((((((....)))))).......((((...   \n",
       "77              0.0  ((((.........))))..((((((....)))))).......((((...   \n",
       "\n",
       "                     RibonanzaNet no pretraining PRED  \\\n",
       "0   ((((((.....(((((.......)))))...............))))))   \n",
       "1   ((((((..............((.......))..................   \n",
       "2                                (((((((......)))))))   \n",
       "3   (((((((.................(((....)))...........)...   \n",
       "4   ((((((.....((..[[[[[.))(((....))).....]]]]].))...   \n",
       "..                                                ...   \n",
       "73  (((((((((((.....((((((((((((.........)))))))))...   \n",
       "74  ((((((((.....))).......................((........   \n",
       "75  (((((.((..................((([[......))).........   \n",
       "76  (((...........)))...((((......))))...............   \n",
       "77  (((...........)))...((((......))))...............   \n",
       "\n",
       "                                         Vienna2 PRED  \\\n",
       "0   ((((((.(((...((((((......)))))).........)))))))))   \n",
       "1   ((((((.(((...(((.((.(((...........)))))..))).....   \n",
       "2                                (((((((......)))))))   \n",
       "3   (((((((........(((((((.((((....)))..).))))))))...   \n",
       "4   ((((((........(((((((.((((....)))..).)))))))))...   \n",
       "..                                                ...   \n",
       "73  ((((((((((((((((((((((((((((.........)))))))))...   \n",
       "74  (((((..((...(((.((((((((.....((((((.(((((........   \n",
       "75  (((((.((.((.(((..((((((.(((((........)))))..((...   \n",
       "76  ((((.........))))..((((((....))))))...(((.((((...   \n",
       "77  ((((.........))))..((((((....))))))...(((.((((...   \n",
       "\n",
       "                                     CONTRAfold2 PRED  ...  \\\n",
       "0   ((((((.(((.(((((.......)))))............)))))))))  ...   \n",
       "1   ((((((.(((...(((.((..((..........))..))..))).....  ...   \n",
       "2                                (((((((......)))))))  ...   \n",
       "3   (((((((........(((((((.((((....)))..).))))))))...  ...   \n",
       "4   ((((((........(((((((.((((....)))..).)))))))))...  ...   \n",
       "..                                                ...  ...   \n",
       "73  ((((((((((((((((((((((((((((.........)))))))))...  ...   \n",
       "74  (((((..((...(((.(((((((((((..((((((.(((((........  ...   \n",
       "75  (((((.((.((.(((..((((((....(((((......(((........  ...   \n",
       "76  ((((.........))))..((((((....))))))...(((.((((...  ...   \n",
       "77  ((((.........))))..((((((....))))))...(((.((((...  ...   \n",
       "\n",
       "   CONTRAfold2 (HK) F1 Shapify-Hfold F1   SPOT-RNA F1       E-value  \\\n",
       "0         0.4444444444           0.9375  0.4285714286  1.000000e+00   \n",
       "1                 0.64     0.8235294118  0.6923076923  1.000000e+00   \n",
       "2                    1                1             1  1.000000e+00   \n",
       "3         0.9189189189     0.9189189189  0.8717948718  1.000000e+00   \n",
       "4         0.6896551724     0.9142857143  0.8421052632  1.000000e+00   \n",
       "..                 ...              ...           ...           ...   \n",
       "73        0.8961937716     0.8677248677  0.8085106383  1.000000e+00   \n",
       "74                 0.9     0.9397590361  0.7123287671  6.640000e-60   \n",
       "75                 0.6              0.8  0.6329113924  5.660000e-66   \n",
       "76        0.7346938776     0.6984126984  0.6923076923  1.000000e+00   \n",
       "77        0.7636363636     0.7536231884  0.7586206897  1.000000e+00   \n",
       "\n",
       "   log E-value TM score RMSD (RibonanzaNet) ↓ RMSD (SPOT-RNA) ↓  \\\n",
       "0     0.000000   0.5783                  17.8              19.6   \n",
       "1     0.000000   0.5564                 12.93             12.16   \n",
       "2     0.000000   0.6317                  3.73              3.46   \n",
       "3     0.000000   0.4747                  7.24              6.79   \n",
       "4     0.000000   0.5015                 10.15              7.18   \n",
       "..         ...      ...                   ...               ...   \n",
       "73    0.000000   0.1959                 44.55             45.74   \n",
       "74  -59.177832   0.4025                 12.73             18.92   \n",
       "75  -65.247184   0.3901                 28.56             20.45   \n",
       "76    0.000000   0.2798                 33.08             31.72   \n",
       "77    0.000000   0.3051                 30.54             37.47   \n",
       "\n",
       "   lDDT (RibonanzaNet) ↑ lDDT (SPOT-RNA) ↑  \n",
       "0                  0.408             0.365  \n",
       "1                  0.549             0.464  \n",
       "2                  0.743             0.725  \n",
       "3                  0.625             0.617  \n",
       "4                  0.519             0.547  \n",
       "..                   ...               ...  \n",
       "73                 0.274             0.123  \n",
       "74                 0.651              0.52  \n",
       "75                 0.554              0.47  \n",
       "76                 0.485             0.487  \n",
       "77                 0.526             0.512  \n",
       "\n",
       "[78 rows x 43 columns]"
      ]
     },
     "execution_count": 11,
     "metadata": {},
     "output_type": "execute_result"
    }
   ],
   "source": [
    "df=pd.read_csv(\"RibonanzaSupplementalTablesV1_Table_S8.csv\",skiprows=2)[:78]\n",
    "df"
   ]
  },
  {
   "cell_type": "code",
   "execution_count": 12,
   "metadata": {},
   "outputs": [
    {
     "data": {
      "text/plain": [
       "Index(['name', 'dataset', 'sequence', 'structure', 'length', 'num_pseudoknots',\n",
       "       'RibonanzaNet PRED', 'RibonanzaNet no pretraining PRED', 'Vienna2 PRED',\n",
       "       'CONTRAfold2 PRED', 'EternaFold PRED', 'IPknot PRED', 'Knotty PRED',\n",
       "       'Vienna2 (TK) PRED', 'Vienna2 (HK) PRED', 'EternaFold ThreshKnot PRED',\n",
       "       'EternaFold (HK) PRED', 'CONTRAfold2 ThreshKnot PRED',\n",
       "       'CONTRAfold2 (HK) PRED', 'Shapify-Hfold PRED', 'SPOT-RNA PRED',\n",
       "       'RibonanzaNet F1', 'RibonanzaNet no pretraining F1', 'Vienna2 F1',\n",
       "       'CONTRAfold2 F1', 'EternaFold F1', 'IPknot F1', 'Knotty F1',\n",
       "       'Vienna2 (TK) F1', 'Vienna2 (HK) F1', 'EternaFold ThreshKnot F1',\n",
       "       'EternaFold (HK) F1', 'CONTRAfold2 ThreshKnot F1',\n",
       "       'CONTRAfold2 (HK) F1', 'Shapify-Hfold F1', 'SPOT-RNA F1', 'E-value',\n",
       "       'log E-value', 'TM score', 'RMSD (RibonanzaNet) ↓', 'RMSD (SPOT-RNA) ↓',\n",
       "       'lDDT (RibonanzaNet) ↑', 'lDDT (SPOT-RNA) ↑'],\n",
       "      dtype='object')"
      ]
     },
     "execution_count": 12,
     "metadata": {},
     "output_type": "execute_result"
    }
   ],
   "source": [
    "df.columns"
   ]
  },
  {
   "cell_type": "code",
   "execution_count": 24,
   "metadata": {},
   "outputs": [
    {
     "data": {
      "text/plain": [
       "Index(['RibonanzaNet PRED', 'RibonanzaNet no pretraining PRED', 'Vienna2 PRED',\n",
       "       'CONTRAfold2 PRED', 'EternaFold PRED', 'IPknot PRED', 'Knotty PRED',\n",
       "       'Vienna2 (TK) PRED', 'Vienna2 (HK) PRED', 'EternaFold ThreshKnot PRED',\n",
       "       'EternaFold (HK) PRED', 'CONTRAfold2 ThreshKnot PRED',\n",
       "       'CONTRAfold2 (HK) PRED', 'Shapify-Hfold PRED', 'SPOT-RNA PRED'],\n",
       "      dtype='object')"
      ]
     },
     "execution_count": 24,
     "metadata": {},
     "output_type": "execute_result"
    }
   ],
   "source": [
    "df.columns[6:21]"
   ]
  },
  {
   "cell_type": "code",
   "execution_count": 52,
   "metadata": {},
   "outputs": [],
   "source": [
    "from ast import literal_eval\n",
    "from utils import *\n",
    "\n",
    "def get_stats(df,col):\n",
    "\n",
    "    F1s=[]\n",
    "    crossed_pair_F1s=[]\n",
    "    for true_db, predicted_db in zip(df['structure'],df[col]):\n",
    "        #predicted_bp=dotbrackte2bp(predicted_bp)\n",
    "\n",
    "        if predicted_db!=predicted_db: # for edge case of Shapify-Hfold PRED where there is an nan as pred\n",
    "            F1s.append(0)\n",
    "            crossed_pair_F1s.append(0)\n",
    "\n",
    "\n",
    "        else:\n",
    "            true_bp=dotbrackte2bp(true_db)\n",
    "            predicted_bp=dotbrackte2bp(predicted_db)\n",
    "\n",
    "\n",
    "\n",
    "            crossed_pairs,crossed_pairs_set=detect_crossed_pairs(true_bp)\n",
    "            predicted_crossed_pairs,predicted_crossed_pairs_set=detect_crossed_pairs(predicted_bp)\n",
    "            \n",
    "            _,_,f1=calculate_f1_score_with_pseudoknots(true_bp, predicted_bp)\n",
    "            F1s.append(f1)\n",
    "            \n",
    "\n",
    "            if len(crossed_pairs)>0:\n",
    "                _,_,crossed_pair_f1=calculate_f1_score_with_pseudoknots(crossed_pairs, predicted_crossed_pairs)\n",
    "                crossed_pair_F1s.append(crossed_pair_f1)\n",
    "            elif len(crossed_pairs)==0 and len(predicted_crossed_pairs)>0:\n",
    "                crossed_pair_F1s.append(0)\n",
    "            else:\n",
    "                crossed_pair_F1s.append(np.nan)\n",
    "        \n",
    "\n",
    "        \n",
    "\n",
    "    F1s=np.array(F1s)\n",
    "    crossed_pair_F1s=np.array(crossed_pair_F1s)\n",
    "\n",
    "    # print(f\"for {col}\")\n",
    "    # print('global F1 mean',np.mean(F1s))\n",
    "    # print('global F1 median',np.median(F1s))\n",
    "    # print('crossed pair F1 mean',np.nanmean(crossed_pair_F1s))\n",
    "    # print('crossed pair F1 median',np.nanmedian(crossed_pair_F1s))\n",
    "\n",
    "    return F1s, crossed_pair_F1s"
   ]
  },
  {
   "cell_type": "code",
   "execution_count": 36,
   "metadata": {},
   "outputs": [
    {
     "name": "stdout",
     "output_type": "stream",
     "text": [
      "RibonanzaNet PRED\n",
      "2.8430667375900498e-08\n",
      "-2.304137301184648e-10\n",
      "RibonanzaNet no pretraining PRED\n",
      "2.861022940781055e-08\n",
      "3.5524335752248395e-09\n",
      "Vienna2 PRED\n",
      "2.9370404663886518e-08\n",
      "3.9590990884546384e-09\n",
      "CONTRAfold2 PRED\n",
      "2.8301486043602608e-08\n",
      "1.9779268408311643e-09\n",
      "EternaFold PRED\n",
      "2.940495824610423e-08\n",
      "2.515802223953164e-09\n",
      "IPknot PRED\n",
      "2.9382571486991083e-08\n",
      "5.903069646343658e-09\n",
      "Knotty PRED\n",
      "2.7093020382729094e-08\n",
      "4.392614378359939e-09\n",
      "Vienna2 (TK) PRED\n",
      "2.7093020493751396e-08\n",
      "3.787247335541047e-09\n",
      "Vienna2 (HK) PRED\n",
      "2.7093020493751396e-08\n",
      "3.358929142661984e-09\n",
      "EternaFold ThreshKnot PRED\n",
      "2.8610229629855155e-08\n",
      "3.921437285647186e-09\n",
      "EternaFold (HK) PRED\n",
      "2.8899221682365805e-08\n",
      "3.159776926576222e-09\n",
      "CONTRAfold2 ThreshKnot PRED\n",
      "2.7093020382729094e-08\n",
      "5.159376905050924e-09\n",
      "CONTRAfold2 (HK) PRED\n",
      "2.7093020382729094e-08\n",
      "2.295525842772196e-09\n",
      "Shapify-Hfold PRED\n",
      "1.0\n",
      "0.02460152757650034\n",
      "SPOT-RNA PRED\n",
      "2.79776902756268e-08\n",
      "3.604121535404604e-09\n"
     ]
    }
   ],
   "source": [
    "for col in df.columns[6:21]:\n",
    "    print(col)\n",
    "    F1s, crossed_pair_F1s=get_stats(df,col)\n",
    "\n",
    "    model_name=col[:-5]\n",
    "    print((df[f'{model_name} F1'].values.astype('float32')-F1s).max())\n",
    "    print((df[f'{model_name} F1'].values.astype('float32')-F1s).mean())"
   ]
  },
  {
   "cell_type": "markdown",
   "metadata": {},
   "source": [
    "Shapify-Hfold F1 has some problems in V1, 6PK9 has structure string of wrong length, 6TB7 also has nan structure string, overall there are 2 mismatches in F1. All other predictions algorithms seem fine however. "
   ]
  },
  {
   "cell_type": "code",
   "execution_count": 30,
   "metadata": {},
   "outputs": [
    {
     "data": {
      "text/plain": [
       "0     ((((((.[[[...[[[....[[[....]]]....]]]...]]]))))))\n",
       "1     ((((((.[[[...[[[.[[.[[[..........]]].]]..]]].....\n",
       "2     [[[[[[[........(((((((..[[[....]]]....)))))))]...\n",
       "3                                                   NaN\n",
       "4     [[[[[[........(((((((..[[[....]]]....)))))))]]...\n",
       "                            ...                        \n",
       "73    [[[[[[[[[[[[[[[.[[[[[[[[[[[[.........]]]]]]]]]...\n",
       "74    [[[[[..[[...[[[.[[[[[[[[.....((((([..[[[[........\n",
       "75    [[[[[.[[.[[.[[[..[[[[[.....[[[[[......[[[........\n",
       "76    [[[[.........]]]]..((((([....])))))...[[[.[[[[...\n",
       "77    [[[[.........]]]]..((((([....])))))...[[[.[[[[...\n",
       "Name: Shapify-Hfold PRED, Length: 78, dtype: object"
      ]
     },
     "execution_count": 30,
     "metadata": {},
     "output_type": "execute_result"
    }
   ],
   "source": [
    "df['Shapify-Hfold PRED']"
   ]
  },
  {
   "cell_type": "code",
   "execution_count": 39,
   "metadata": {},
   "outputs": [
    {
     "data": {
      "text/plain": [
       "0           0.9375\n",
       "1     0.8235294118\n",
       "2                1\n",
       "3     0.9189189189\n",
       "4     0.9142857143\n",
       "          ...     \n",
       "73    0.8677248677\n",
       "74    0.9397590361\n",
       "75             0.8\n",
       "76    0.6984126984\n",
       "77    0.7536231884\n",
       "Name: Shapify-Hfold F1, Length: 78, dtype: object"
      ]
     },
     "execution_count": 39,
     "metadata": {},
     "output_type": "execute_result"
    }
   ],
   "source": [
    "df['Shapify-Hfold F1']"
   ]
  },
  {
   "cell_type": "code",
   "execution_count": 53,
   "metadata": {},
   "outputs": [
    {
     "data": {
      "text/plain": [
       "<matplotlib.collections.PathCollection at 0x7f88fc41dc70>"
      ]
     },
     "execution_count": 53,
     "metadata": {},
     "output_type": "execute_result"
    },
    {
     "data": {
      "image/png": "[encoded data removed]",
      "text/plain": [
       "<Figure size 640x480 with 1 Axes>"
      ]
     },
     "metadata": {},
     "output_type": "display_data"
    }
   ],
   "source": [
    "plt.scatter(df['Shapify-Hfold F1'].values.astype('float32'),get_stats(df,'Shapify-Hfold PRED')[0])"
   ]
  },
  {
   "cell_type": "code",
   "execution_count": 47,
   "metadata": {},
   "outputs": [
    {
     "data": {
      "text/plain": [
       "2"
      ]
     },
     "execution_count": 47,
     "metadata": {},
     "output_type": "execute_result"
    }
   ],
   "source": [
    "(df['Shapify-Hfold F1'].values.astype('float32')-get_stats(df,'Shapify-Hfold PRED')[0]).argmax()"
   ]
  },
  {
   "cell_type": "code",
   "execution_count": 49,
   "metadata": {},
   "outputs": [
    {
     "data": {
      "text/plain": [
       "0.0"
      ]
     },
     "execution_count": 49,
     "metadata": {},
     "output_type": "execute_result"
    }
   ],
   "source": [
    "get_stats(df,'Shapify-Hfold PRED')[0][2]"
   ]
  },
  {
   "cell_type": "code",
   "execution_count": 57,
   "metadata": {},
   "outputs": [
    {
     "data": {
      "text/plain": [
       "'[[[[[[[........(((((((..[[[....]]]....)))))))]]]]]]]'"
      ]
     },
     "execution_count": 57,
     "metadata": {},
     "output_type": "execute_result"
    }
   ],
   "source": [
    "df.loc[2,'Shapify-Hfold PRED']"
   ]
  },
  {
   "cell_type": "code",
   "execution_count": 58,
   "metadata": {},
   "outputs": [
    {
     "data": {
      "text/plain": [
       "'(((((((......)))))))'"
      ]
     },
     "execution_count": 58,
     "metadata": {},
     "output_type": "execute_result"
    }
   ],
   "source": [
    "df.loc[2,'structure']"
   ]
  },
  {
   "cell_type": "code",
   "execution_count": 59,
   "metadata": {},
   "outputs": [
    {
     "data": {
      "text/plain": [
       "'(((((((......)))))))'"
      ]
     },
     "execution_count": 59,
     "metadata": {},
     "output_type": "execute_result"
    }
   ],
   "source": [
    "df.loc[2,'RibonanzaNet PRED']"
   ]
  },
  {
   "cell_type": "code",
   "execution_count": 62,
   "metadata": {},
   "outputs": [
    {
     "data": {
      "text/plain": [
       "'GGCUUCAACAACCCCGUAGGUUGGGCCGAAAGGCAGCGAAUCUACUGGAGCC'"
      ]
     },
     "execution_count": 62,
     "metadata": {},
     "output_type": "execute_result"
    }
   ],
   "source": [
    "df.loc[3,'sequence']"
   ]
  }
 ],
 "metadata": {
  "kernelspec": {
   "display_name": "Python 3",
   "language": "python",
   "name": "python3"
  },
  "language_info": {
   "codemirror_mode": {
    "name": "ipython",
    "version": 3
   },
   "file_extension": ".py",
   "mimetype": "text/x-python",
   "name": "python",
   "nbconvert_exporter": "python",
   "pygments_lexer": "ipython3",
   "version": "3.8.18"
  }
 },
 "nbformat": 4,
 "nbformat_minor": 2
}
